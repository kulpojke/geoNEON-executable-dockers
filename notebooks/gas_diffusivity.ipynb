{
 "cells": [
  {
   "cell_type": "markdown",
   "id": "c1c7eb42-07e1-406d-ab3c-07d04836897a",
   "metadata": {},
   "source": [
    "# Bib\n",
    "\n",
    "\n",
    "@article{burdine1953,\n",
    "  title={Relative permeability calculations from pore size distribution data: Petroleum Transactions AIME, v. 198},\n",
    "  author={Burdine, NT},\n",
    "  year={1953}\n",
    "}\n",
    "\n",
    "@article{campbell1974,\n",
    "  title={A simple method for determining unsaturated conductivity from moisture retention data},\n",
    "  author={Campbell, Gaylon S},\n",
    "  journal={Soil science},\n",
    "  volume={117},\n",
    "  number={6},\n",
    "  pages={311--314},\n",
    "  year={1974},\n",
    "  publisher={LWW}\n",
    "}\n",
    "\n",
    "@article{moldrup2000,\n",
    "  title={Predicting the gas diffusion coefficient in undisturbed soil from soil water characteristics},\n",
    "  author={Moldrup, P and Olesen, Torben and Schj{\\o}nning, Per and Yamaguchi, T and Rolston, DE},\n",
    "  journal={Soil Science Society of America Journal},\n",
    "  volume={64},\n",
    "  number={1},\n",
    "  pages={94--100},\n",
    "  year={2000},\n",
    "  publisher={Wiley Online Library}\n",
    "}"
   ]
  },
  {
   "cell_type": "markdown",
   "id": "f2fd00ac-a9e5-450f-8b32-f13ead3d8be9",
   "metadata": {
    "tags": []
   },
   "source": [
    "# Gas diffusivity constant (effective diffusivity) #\n",
    "\n",
    "Molderup et al. \\cite{moldrup2000}, using data from previous studies, first determeined a refenrece-potential gas diffusivity relating measured gas diffusivities at a $\\Psi = -100$ cm H$_2$O ($D_{P, 100}$) to air filled porosities at a $\\Psi = -100$ cm H$_2$O ($\\epsilon_{100}$).\n",
    "\n",
    "\n",
    "\n",
    "\\begin{equation} \\label{refPotential}\n",
    "\\frac{D_{P, 100}}{D_{0}} = 2 \\epsilon_{100}^{3} + 0.4 \\epsilon_{100} \n",
    "\\end{equation}\n",
    "where $D_0$ is the gas diffusion coefficient in free air.  Equation \\ref{refPotential} was then inserted into the Burdine–Campbell relative, unsaturated hydraulic conductivity model \\cite{burdine1953, cambell1974}.\n",
    "\n",
    "\\begin{equation} \\label{BCM96}\n",
    "    \\frac{D_{s, 100}}{D_{0}} = (2 \\; \\epsilon_{100}^{3} + 0.04) \\; \\left( \\frac{\\epsilon}{\\epsilon_{100}} \\right)^{2+3/b}\n",
    "\\end{equation}\n",
    "where $b$ is the soil water retention parameter determined by Cambell \\cite{campbell1974}, which is calculated by finding the slope of $\\log{\\epsilon}$ vs.  $\\log{-\\Psi}$.  \n",
    "\n",
    "Normally, In order to calculate $D_{s}$,  SWC must be known for at least two values of $\\Psi$ (one of which is needing to be $\\Psi_{100}$), though more are desirable for determining $b$.  In our bayesian model we will be drawing particle size fractions from a distribution and using those values to calculate the relationship between $\\Psi$ based on  $\\epsilon$  using the method described above.  There will thus be a distribution of values for $\\Psi$, and a a resulting deterministic (unless I add noise later) distribution of values for $\\epsilon$. The log-log regressing to find b can be performed to find a posterior for b. \n",
    "\n",
    "In order to calculate $D_{s}$ then we must first calculate the matric potential. To do this we must find the sand and clay fractions of the soil.\n",
    "\n",
    "### soil particle dsitribution ###\n",
    "The soil pits are often very lose to the base of the tower, rather than scattered about the tower footprint.  Furthermore, since soil composition veries so much over space it hardly seems reasonable to try to estimate the actual values for sand and clay at each sensor location.  Instead we will just define a joint probablitity distribution of sand, caly and silt percentages based on the observed data.  We can draw from it later as a model parameter."
   ]
  },
  {
   "cell_type": "code",
   "execution_count": null,
   "id": "c32be50a-b1b8-4d8b-9f44-c9436eab069c",
   "metadata": {},
   "outputs": [],
   "source": []
  },
  {
   "cell_type": "code",
   "execution_count": null,
   "id": "25e54d70-f747-4043-a362-04a77ccd8374",
   "metadata": {},
   "outputs": [],
   "source": []
  }
 ],
 "metadata": {
  "kernelspec": {
   "display_name": "Python 3 (ipykernel)",
   "language": "python",
   "name": "python3"
  },
  "language_info": {
   "codemirror_mode": {
    "name": "ipython",
    "version": 3
   },
   "file_extension": ".py",
   "mimetype": "text/x-python",
   "name": "python",
   "nbconvert_exporter": "python",
   "pygments_lexer": "ipython3",
   "version": "3.8.12"
  }
 },
 "nbformat": 4,
 "nbformat_minor": 5
}
