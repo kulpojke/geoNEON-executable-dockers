{
 "cells": [
  {
   "cell_type": "markdown",
   "id": "c1c7eb42-07e1-406d-ab3c-07d04836897a",
   "metadata": {},
   "source": [
    "# Bib\n",
    "\n",
    "\n",
    "@article{burdine1953,\n",
    "  title={Relative permeability calculations from pore size distribution data: Petroleum Transactions AIME, v. 198},\n",
    "  author={Burdine, NT},\n",
    "  year={1953}\n",
    "}\n",
    "\n",
    "@article{campbell1974,\n",
    "  title={A simple method for determining unsaturated conductivity from moisture retention data},\n",
    "  author={Campbell, Gaylon S},\n",
    "  journal={Soil science},\n",
    "  volume={117},\n",
    "  number={6},\n",
    "  pages={311--314},\n",
    "  year={1974},\n",
    "  publisher={LWW}\n",
    "}\n",
    "\n",
    "@article{jensen1998,\n",
    "  title={Soil water matric potential rather than water content determines drought responses in field-grown lupin (Lupinus angustifolius)},\n",
    "  author={Jensen, CR and Mogensen, VO and Poulsen, H-H and Henson, IE and Aagot, S and Hansen, E and Ali, M and Wollenweber, B},\n",
    "  journal={Functional Plant Biology},\n",
    "  volume={25},\n",
    "  number={3},\n",
    "  pages={353--363},\n",
    "  year={1998},\n",
    "  publisher={CSIRO Publishing}\n",
    "}\n",
    "\n",
    "@article{moldrup2000,\n",
    "  title={Predicting the gas diffusion coefficient in undisturbed soil from soil water characteristics},\n",
    "  author={Moldrup, P and Olesen, Torben and Schj{\\o}nning, Per and Yamaguchi, T and Rolston, DE},\n",
    "  journal={Soil Science Society of America Journal},\n",
    "  volume={64},\n",
    "  number={1},\n",
    "  pages={94--100},\n",
    "  year={2000},\n",
    "  publisher={Wiley Online Library}\n",
    "}\n",
    "\n",
    "@article{rawls1982,\n",
    "  title={Estimation of soil water properties},\n",
    "  author={Rawls, Walter J and Brakensiek, Donald L and Saxtonn, KE},\n",
    "  journal={Transactions of the ASAE},\n",
    "  volume={25},\n",
    "  number={5},\n",
    "  pages={1316--1320},\n",
    "  year={1982},\n",
    "  publisher={American Society of Agricultural and Biological Engineers}\n",
    "}\n",
    "\n",
    "@article{saxton1986,\n",
    "  title={Estimating generalized soil-water characteristics from texture},\n",
    "  author={Saxton, KE and Rawls, W\\_J and Romberger, J Sv and Papendick, RI},\n",
    "  year={1986}\n",
    "}"
   ]
  },
  {
   "cell_type": "markdown",
   "id": "e88a4446-f038-4b29-bfc8-cd7ecbdc9acb",
   "metadata": {},
   "source": [
    "### Determination of matric potential from particle size distribution and volumetric water content ###\n",
    "\n",
    "First we will transform SWC to matric potential ($\\Psi$).  $\\Psi$ Is a better predictor of water availability than volumetric content because it reflects how difficult the water is to remove from the soil \\cite{jensen1998} __(more citations for this statement)__. It is also needed to estimate the soil gas duffusion coeeficient which is needed to calculate gas transport using the gradient method.  After estimating $\\Psi$ we will estimate the gas diffusion coefficient based on air filled porosities using methods described by various authors \\cite{moldrup2000, rawls1982, saxton1986}.\n",
    "\n",
    "First we will determine the matric potential based on SWC and soil properties.\n",
    "\n",
    "### Soil particle dsitribution ###\n",
    "The soil pits are often very close to the base of the tower, rather than scattered about the tower footprint.  Furthermore, since soil composition veries so much over space it hardly seems reasonable to try to estimate the actual values for sand and clay at each sensor location.  Instead we will just define a joint probablitity distribution of sand, clay and silt percentages based on the observed data.  We can draw from it later as a model parameter.\n",
    "\n",
    "The soil particle sample distributions were determined as a multivariate normal distribution (`tfp.distributions.MultivariateNormalTriL`) parameterized with the means and covariances of the clay, sand, and silt fractions of soil samples for each __site (?)  (also might break it down by horizon if possible)__.  "
   ]
  },
  {
   "cell_type": "markdown",
   "id": "a95eaeca-09fb-459e-a199-06f9c9438ba5",
   "metadata": {},
   "source": [
    "### Calculation of matric potential from soil texture and SWC\n",
    "\n",
    "In this section we describe the equations used to estmate $\\Psi$ from volumetric soil water content and soil particle distribution.  The equations used here are orginally from Saxton et al. and Rawls et al. \\cite{rawls1982, saxton1976}. \n",
    "\n",
    "For $\\Psi$ ranging from saturation to air entry ($\\Psi_{e}$) the saturation value of $\\theta$ was used was used.\n",
    "\n",
    "\\begin{equation} \\label{eq:thetaairentry}\n",
    "\\theta = \\theta_{s}\n",
    "\\end{equation}\n",
    "\n",
    "where $\\theta_{s}$ is given below in equation \\ref{eq:thetas}.\n",
    "\n",
    "For values from air entry to 10kPa linear equations were used with a fixed organic matter content of 0.66%  __(do i have organic matter content? if so plug it on in eh?)__. The equation for tension at air entry $\\Psi_{e}$ was developd by Saxton et al. \\cite{saxton1976} based on saturation moisture contents tabulated by Rawls et al. \\cite{rawls1982}\n",
    "\n",
    "\n",
    "\\begin{equation} \\label{rawlA}\n",
    "A = 100 \\; exp(-4.396 - 0.0715 \\; C -4.880 \\times 10^{-4} S^{2} - 4.285 \\times 10^{-5} S^{2}C) \n",
    "\\end{equation}"
   ]
  },
  {
   "cell_type": "markdown",
   "id": "96bc10a9-2f96-4876-979f-a92c2677494f",
   "metadata": {},
   "source": [
    "\\begin{equation} \\label{rawlsB}\n",
    "B = -3.140 - 2.22 \\times 10^{-3} \\; C^{2} - 3.484 \\times 10^{-5} \\; S^{2} C\n",
    "\\end{equation}"
   ]
  },
  {
   "cell_type": "markdown",
   "id": "3237141f-4aea-4e42-bc6d-a8fc95aa9e76",
   "metadata": {},
   "source": [
    "\\begin{equation} \\label{rawlsPsi}\n",
    "\\Psi = 10.0 - \\frac{(\\theta - \\theta_{10})(10.0 - \\Psi_{e})}{\\theta_{s} - \\theta_{10}}\n",
    "\\end{equation}"
   ]
  },
  {
   "cell_type": "markdown",
   "id": "4a4b9aab-7f99-4c20-a127-0a355feb4ea0",
   "metadata": {},
   "source": [
    "\\begin{equation} \\label{rawlsTheta}\n",
    "\\theta_{10} = exp(\\frac{2.302 - ln A}{B})\n",
    "\\end{equation}"
   ]
  },
  {
   "cell_type": "markdown",
   "id": "21684724-c83e-4e4c-bbee-15e71f049fab",
   "metadata": {},
   "source": [
    "\\begin{equation} \\label{eq:thetas}\n",
    "\\Psi_{e} = 100.0 \\, (\\, 0.341 - 0.108 \\; \\theta_{s} \\,)\n",
    "\\end{equation}"
   ]
  },
  {
   "cell_type": "markdown",
   "id": "56a62b1f-7c97-4add-83fe-2dadbbedf6f5",
   "metadata": {},
   "source": [
    "\\begin{equation} \\label{rawls4}\n",
    "\\theta_{s} = 0.332 - 7.251 \\times 10^{-4} \\; S + 0.1276 \\; log_{10}(C)\n",
    "\\end{equation}"
   ]
  },
  {
   "cell_type": "markdown",
   "id": "7f0c71e0-64dd-4473-a7c4-9f2f6326c15d",
   "metadata": {},
   "source": [
    "where $S$ is percent sand, $C$ is percent clay, and $\\theta_{10}$ is SWC at 10kPa."
   ]
  },
  {
   "cell_type": "markdown",
   "id": "62b8b4c5-72e9-404e-9236-546e1e7bcee3",
   "metadata": {},
   "source": [
    "For values above 10 kPa\n",
    "\n",
    "\\begin{equation} \\label{highPsi}\n",
    "\\Psi = A \\; \\theta^{B}\n",
    "\\end{equation}\n",
    "\n",
    "where $A$ and $B$ are the same as for the air entry to 10kPa range.\n",
    "\n",
    "Using the above equations it is then possible to calculate an estimate of $\\Psi$ based only on soil sand percentage ($S$), soil clay percentage ($C$), and SWC ($\\theta$) "
   ]
  },
  {
   "cell_type": "markdown",
   "id": "f2fd00ac-a9e5-450f-8b32-f13ead3d8be9",
   "metadata": {
    "tags": []
   },
   "source": [
    "# Gas diffusion coefficient (effective diffusivity) #\n",
    "\n",
    "Using data from previous studies, Molderup et al. \\cite{moldrup2000} first determeined a reference-potential gas diffusivity relating measured gas diffusivities to air filled porosities at a $\\Psi = -100$ cm H$_2$O, $D_{P, 100}$ and $\\epsilon_{100}$ respectively. ($\\epsilon = 1 - \\theta$).\n",
    "\n",
    "\\begin{equation} \\label{eq:1}\n",
    "\\frac{D_{P, 100}}{D_{0}} = 2 \\epsilon_{100}^{3} + 0.4 \\epsilon_{100} \n",
    "\\end{equation}\n",
    "where $D_0$ is the gas diffusion coefficient in free air.  The above equation (eq\\ref{eq:1}) was then inserted into the Burdine–Campbell relative, unsaturated hydraulic conductivity model \\cite{burdine1953, cambell1974} to get,\n",
    "\n",
    "\\begin{equation} \\label{eq:5}\n",
    "    \\frac{D_{P}}{D_{0}} = (2 \\; \\epsilon_{100}^{3} + 0.04 \\; \\epsilon_{100}) \\; \\left( \\frac{\\epsilon}{\\epsilon_{100}} \\right)^{2+3/b}\n",
    "\\end{equation}\n",
    "\n",
    "Using equation \\ref{eq:5} it is no longer necessary to have a reference point measurement, but only two parameters: $b$, the soil water retention parameter which is the slope of $\\log{\\epsilon}$ vs.  $\\log{-\\Psi}$ \\cite{campbell1974}; and $\\epsilon_{100}$\n",
    "\n",
    "Normally SWC must be known for at least two values of $\\Psi$ (one needing to be $\\Psi_{100}$), though more are desirable for determining $b$.  In our bayesian model we will be drawing particle size fractions from a distribution and using those values to calculate the relationship between $\\Psi$ and $\\epsilon$  using the method described above.  There will thus be a distribution of values for $\\Psi$, and  a resulting distribution of values for $\\epsilon$. The log-log regressing to find b can be performed to find a posterior for b. \n",
    "\n",
    "\n"
   ]
  },
  {
   "cell_type": "code",
   "execution_count": null,
   "id": "b12427b8-599f-4cd7-9b9a-48288ee611fc",
   "metadata": {},
   "outputs": [],
   "source": []
  }
 ],
 "metadata": {
  "kernelspec": {
   "display_name": "Python 3 (ipykernel)",
   "language": "python",
   "name": "python3"
  },
  "language_info": {
   "codemirror_mode": {
    "name": "ipython",
    "version": 3
   },
   "file_extension": ".py",
   "mimetype": "text/x-python",
   "name": "python",
   "nbconvert_exporter": "python",
   "pygments_lexer": "ipython3",
   "version": "3.8.12"
  }
 },
 "nbformat": 4,
 "nbformat_minor": 5
}
