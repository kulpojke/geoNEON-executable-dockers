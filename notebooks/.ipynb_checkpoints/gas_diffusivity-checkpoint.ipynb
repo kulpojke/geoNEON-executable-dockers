{
 "cells": [
  {
   "cell_type": "markdown",
   "id": "c1c7eb42-07e1-406d-ab3c-07d04836897a",
   "metadata": {},
   "source": [
    "# Bib\n",
    "\n",
    "\n",
    "@article{burdine1953,\n",
    "  title={Relative permeability calculations from pore size distribution data: Petroleum Transactions AIME, v. 198},\n",
    "  author={Burdine, NT},\n",
    "  year={1953}\n",
    "}\n",
    "\n",
    "@article{campbell1974,\n",
    "  title={A simple method for determining unsaturated conductivity from moisture retention data},\n",
    "  author={Campbell, Gaylon S},\n",
    "  journal={Soil science},\n",
    "  volume={117},\n",
    "  number={6},\n",
    "  pages={311--314},\n",
    "  year={1974},\n",
    "  publisher={LWW}\n",
    "}\n",
    "\n",
    "@article{moldrup2000,\n",
    "  title={Predicting the gas diffusion coefficient in undisturbed soil from soil water characteristics},\n",
    "  author={Moldrup, P and Olesen, Torben and Schj{\\o}nning, Per and Yamaguchi, T and Rolston, DE},\n",
    "  journal={Soil Science Society of America Journal},\n",
    "  volume={64},\n",
    "  number={1},\n",
    "  pages={94--100},\n",
    "  year={2000},\n",
    "  publisher={Wiley Online Library}\n",
    "}\n",
    "\n",
    "@article{rawls1982,\n",
    "  title={Estimation of soil water properties},\n",
    "  author={Rawls, Walter J and Brakensiek, Donald L and Saxtonn, KE},\n",
    "  journal={Transactions of the ASAE},\n",
    "  volume={25},\n",
    "  number={5},\n",
    "  pages={1316--1320},\n",
    "  year={1982},\n",
    "  publisher={American Society of Agricultural and Biological Engineers}\n",
    "}"
   ]
  },
  {
   "cell_type": "markdown",
   "id": "f2fd00ac-a9e5-450f-8b32-f13ead3d8be9",
   "metadata": {
    "tags": []
   },
   "source": [
    "# Gas diffusivity constant (effective diffusivity) #\n",
    "\n",
    "Molderup et al. \\cite{moldrup2000}, using data from previous studies, first determeined a refenrece-potential gas diffusivity relating measured gas diffusivities at a $\\Psi = -100$ cm H$_2$O ($D_{P, 100}$) to air filled porosities at a $\\Psi = -100$ cm H$_2$O ($\\epsilon_{100}$).\n",
    "\n",
    "\n",
    "\n",
    "\\begin{equation} \\label{refPotential}\n",
    "\\frac{D_{P, 100}}{D_{0}} = 2 \\epsilon_{100}^{3} + 0.4 \\epsilon_{100} \n",
    "\\end{equation}\n",
    "where $D_0$ is the gas diffusion coefficient in free air.  Equation \\ref{refPotential} was then inserted into the Burdine–Campbell relative, unsaturated hydraulic conductivity model \\cite{burdine1953, cambell1974}.\n",
    "\n",
    "\\begin{equation} \\label{BCM96}\n",
    "    \\frac{D_{s, 100}}{D_{0}} = (2 \\; \\epsilon_{100}^{3} + 0.04) \\; \\left( \\frac{\\epsilon}{\\epsilon_{100}} \\right)^{2+3/b}\n",
    "\\end{equation}\n",
    "where $b$ is the soil water retention parameter determined by Cambell \\cite{campbell1974}, which is calculated by finding the slope of $\\log{\\epsilon}$ vs.  $\\log{-\\Psi}$.  \n",
    "\n",
    "Normally, In order to calculate $D_{s}$,  SWC must be known for at least two values of $\\Psi$ (one of which needing to be $\\Psi_{100}$), though more are desirable for determining $b$.  In our bayesian model we will be drawing particle size fractions from a distribution and using those values to calculate the relationship between $\\Psi$ based on  $\\epsilon$  using the method described above.  There will thus be a distribution of values for $\\Psi$, and a a resulting deterministic (unless I add noise later) distribution of values for $\\epsilon$. The log-log regressing to find b can be performed to find a posterior for b. \n",
    "\n",
    "In order to calculate $D_{s}$ then we must first calculate the matric potential. To do this we must find the sand and clay fractions of the soil.\n",
    "\n",
    "### Soil particle dsitribution ###\n",
    "The soil pits are often very close to the base of the tower, rather than scattered about the tower footprint.  Furthermore, since soil composition veries so much over space it hardly seems reasonable to try to estimate the actual values for sand and clay at each sensor location.  Instead we will just define a joint probablitity distribution of sand, clay and silt percentages based on the observed data.  We can draw from it later as a model parameter.\n",
    "\n",
    "The soil particle sample distributions were determined as a multivariate normal distribution (`tfp.distributions.MultivariateNormalTriL`) parameterized with the means and covariances of the clay, sand, and silt fractions of soil samples for each __site (?)  (also might break it down by horizon if possible)__.  \n",
    "\n",
    "### Determination of matric potential from particle size distribution and volumetric water content ###"
   ]
  },
  {
   "cell_type": "markdown",
   "id": "a95eaeca-09fb-459e-a199-06f9c9438ba5",
   "metadata": {},
   "source": [
    "\\$\\Psi$ was estimated from volumetric soil water content and soil particle distribution using the methods described by Saxton et al. \\cite{saxton1976}.  Three equations were used to describe the relationship between matric potential, soil particle distribution across different ranges of volumetric water content.  For $\\Psi$ ranging from saturation to air entry ($\\Psi_{e}$) the saturation value was used was used.\n",
    "\n",
    "\\begin{equation} \\label{saturation}\n",
    "\\theta = \\theta_{s} \n",
    "\\end{equation}\n",
    "\n",
    "For values from air entry to 10kP linear equations previously described by Rawls et al. \\cite{rawls1982} were used with a fixed organic matter content of 0.66% __(do i have organic matter content? if so plug it on in eh?)__.\n",
    "\n",
    "\n",
    "\\begin{equation} \\label{rawlA}\n",
    "A = 100 \\; exp(-4.396 - 0.0715 \\; C -4.880 \\times 10^{-4} S^{2} - 4.285 \\times 10^{-5} S^{2}C) \n",
    "\\end{equation}"
   ]
  },
  {
   "cell_type": "markdown",
   "id": "96bc10a9-2f96-4876-979f-a92c2677494f",
   "metadata": {},
   "source": [
    "\\begin{equation} \\label{rawlsB}\n",
    "B = -3.140 - 2.22 \\times 10^{-3} \\; C^{2} - 3.484 \\times 10^{-5} \\; S^{2} C\n",
    "\\end{equation}"
   ]
  },
  {
   "cell_type": "markdown",
   "id": "3237141f-4aea-4e42-bc6d-a8fc95aa9e76",
   "metadata": {},
   "source": [
    "\\begin{equation} \\label{rawlsPsi}\n",
    "\\Psi = 10.0 - \\frac{(\\theta - \\theta_{10})(10.0 - \\Psi_{e})}{\\theta_{s} - \\theta_{10}}\n",
    "\\end{equation}"
   ]
  },
  {
   "cell_type": "markdown",
   "id": "4a4b9aab-7f99-4c20-a127-0a355feb4ea0",
   "metadata": {},
   "source": [
    "\\begin{equation} \\label{rawlsTheta}\n",
    "\\theta_{10} = exp(\\frac{2.302 - ln A}{B})\n",
    "\\end{equation}"
   ]
  },
  {
   "cell_type": "markdown",
   "id": "21684724-c83e-4e4c-bbee-15e71f049fab",
   "metadata": {},
   "source": [
    "\\begin{equation} \\label{rawls3}\n",
    "\\Psi_{e} = 100.0 (m + n \\; \\theta_{s})\n",
    "\\end{equation}"
   ]
  },
  {
   "cell_type": "markdown",
   "id": "56a62b1f-7c97-4add-83fe-2dadbbedf6f5",
   "metadata": {},
   "source": [
    "\\begin{equation} \\label{rawls4}\n",
    "\\theta_{s} = h + j \\; S + k \\; log_{10}(C)\n",
    "\\end{equation}"
   ]
  },
  {
   "cell_type": "markdown",
   "id": "7f0c71e0-64dd-4473-a7c4-9f2f6326c15d",
   "metadata": {},
   "source": [
    "where $S$ is percent sand, $C$ is percent clay, __(need i include the subscripted thetas and psis?)__."
   ]
  },
  {
   "cell_type": "markdown",
   "id": "62b8b4c5-72e9-404e-9236-546e1e7bcee3",
   "metadata": {},
   "source": [
    "For values above 10 kPa\n",
    "\n",
    "\\begin{equation} \\label{highPsi}\n",
    "\\Psi = A \\; \\theta^{B}\n",
    "\\end{equation}"
   ]
  },
  {
   "cell_type": "code",
   "execution_count": null,
   "id": "f03fe9d9-6f4a-4537-b1e5-f8303ca2a2eb",
   "metadata": {},
   "outputs": [],
   "source": []
  }
 ],
 "metadata": {
  "kernelspec": {
   "display_name": "Python 3 (ipykernel)",
   "language": "python",
   "name": "python3"
  },
  "language_info": {
   "codemirror_mode": {
    "name": "ipython",
    "version": 3
   },
   "file_extension": ".py",
   "mimetype": "text/x-python",
   "name": "python",
   "nbconvert_exporter": "python",
   "pygments_lexer": "ipython3",
   "version": "3.8.12"
  }
 },
 "nbformat": 4,
 "nbformat_minor": 5
}
