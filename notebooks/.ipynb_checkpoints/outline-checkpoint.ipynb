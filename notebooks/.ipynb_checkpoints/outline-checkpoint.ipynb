{
 "cells": [
  {
   "cell_type": "markdown",
   "metadata": {},
   "source": [
    "# Select Sites\n",
    "\n",
    "Iitially he following sites were selected to represent various North American Biomes.\n",
    "\n",
    "* Sierras, CA\n",
    "    * TEAK - mixed conifer forest\n",
    "    * SOAP - mixed conifer forest\n",
    "* Sierra Foothils, CA\n",
    "    * SJER - grassy open oak woodland\n",
    "* Cascades\n",
    "    * ABBY - managed conifer forest\n",
    "* AK\n",
    "    * DEJU -  scrubby evergreen forest\n",
    "    * TOOL - tussock tundra\n",
    "    * BONA - permafrost, hardwood forest, wetlands, and shrublands\n",
    "    * BARR - Sedge Herbaceous, with Emergent Herbaceous wetlands\n",
    "* Alabama \n",
    "    * DELA - Broadleaf deciduous forest, concentrations of low evergreen, patches of bluestem prairie\n",
    "    * LENO - closed-canopy pine-oak mixed forest,includes meadows and wetlands\n",
    "    * TALL - conifers, some intermixed conifers, hardwoods, bottomland hardwoods, and wetlands\n",
    "* VA \n",
    "    * MLBS - Southern Appalachian forest, mosaic of deciduous species\n",
    "* Plains\n",
    "    * KONA - cultivated crop fields\n",
    "    * KONZ - native tallgrasses\n",
    "    * CLBJ - mosaic of oak-dominated forest and grasslands\n",
    "    * STER - Cropping systems under no-till management\n",
    "    * NOJP - Bromus inermis, Poa pretensis,  various crop species\n",
    "    * WOOD - prairie grasslands including crops\n",
    "    * TREE - Picea mariana/Larix laricina forests, non-forested acid bog, hardwood/cedar wetlands"
   ]
  },
  {
   "cell_type": "markdown",
   "metadata": {},
   "source": [
    "# Determine footprint\n",
    "\n",
    "* Make footprint tif by adding footRaster(filepath) to flufdownload.R \n",
    "* Find locations of soil pits and soil sensors, select the ones within footprint. _it seems all of th e solit  pits are in the footprint._\n",
    "* For each site make estimate joint distribution of sand and clay fractions.\n",
    "    * This will happen in matric.py inside of model1  __DONE in notebook version__\n",
    "    * we will draw samples from this to convert swc to matric potential using matric.py\n",
    "    * In the notebook it is implemented with tfp\n",
    "\n"
   ]
  },
  {
   "cell_type": "markdown",
   "metadata": {},
   "source": [
    "# Footprint Properties\n",
    "\n",
    "* delineate land cover using hyperspectral and for polygon:\n",
    "    * Make pseudowaveform\n",
    "    * Extract hyperspectral pixels\n",
    "    * asses structural properties (maybe use existing neon products)\n",
    "        * canopy nitrogen\n",
    "        * canopy lignin\n",
    "        * LAI\n",
    "        * canopy height\n",
    "        * pseudowaveform bin density related quantity (or maybe just peseudowaveform)\n",
    "* calculate landscape entropy (cushman2016)\n",
    "* maybe calculate isotropy of landscape wrt tower?\n",
    "* summary stats of structural properties\n",
    "    * mean, var, median, etc...\n",
    "* How do these properties effect flux (incorporate temp, swc, and other meteriolocical of course)\n"
   ]
  },
  {
   "cell_type": "markdown",
   "metadata": {},
   "source": [
    "# general flux model #\n",
    "\n",
    "### soil flux calculaion using gradient method ###\n",
    "* use WLR Penman diffusivity as decribed in moldrup2000a\n",
    "    * $\\frac{D_{P}, D_{0}} = 0.66 \\epsilon$\n",
    "    * modrup et al found that it worked the best for dry soils, and was compable in WLR form to the others reviewd\n",
    "    * it can be calulated from the data frovided in DP1.10047.001.\n",
    "\n",
    "\n",
    "\n",
    "@article{moldrup2000a,\n",
    "  title={Predicting the gas diffusion coefficient in repacked soil water-induced linear reduction model},\n",
    "  author={Moldrup, P and Olesen, T and Gamst, J and Schj{\\o}nning, P and Yamaguchi, T and Rolston, DE},\n",
    "  journal={Soil Science Society of America Journal},\n",
    "  volume={64},\n",
    "  number={5},\n",
    "  pages={1588--1594},\n",
    "  year={2000},\n",
    "  publisher={Wiley Online Library}\n",
    "}\n",
    "\n",
    "@article{moldrup2000b,\n",
    "  title={Predicting the gas diffusion coefficient in undisturbed soil from soil water characteristics},\n",
    "  author={Moldrup, P and Olesen, Torben and Schj{\\o}nning, Per and Yamaguchi, T and Rolston, DE},\n",
    "  journal={Soil Science Society of America Journal},\n",
    "  volume={64},\n",
    "  number={1},\n",
    "  pages={94--100},\n",
    "  year={2000},\n",
    "  publisher={Wiley Online Library}\n",
    "}"
   ]
  },
  {
   "cell_type": "markdown",
   "metadata": {},
   "source": [
    "### Delineation of land cover classes ##\n",
    "Just use K means clustering"
   ]
  },
  {
   "cell_type": "markdown",
   "metadata": {},
   "source": [
    "### Make pseudowaveform"
   ]
  },
  {
   "cell_type": "markdown",
   "metadata": {},
   "source": [
    "# Seasonal effects (or: Temporal effects)"
   ]
  },
  {
   "cell_type": "markdown",
   "metadata": {},
   "source": [
    "# How representative of it surroundings is the footprint?\n",
    "\n",
    "Follow chu2021, but use the extra metrics computed above."
   ]
  },
  {
   "cell_type": "markdown",
   "metadata": {},
   "source": [
    "# Calculate flux for surrounding area where footprints are representative"
   ]
  },
  {
   "cell_type": "markdown",
   "metadata": {},
   "source": [
    "# Do polSAR (Sentinel-1) analysis to calculate flux using upscaled data from last step\n",
    "\n",
    "* then upscale it more?"
   ]
  },
  {
   "cell_type": "markdown",
   "metadata": {},
   "source": [
    "Compare results to atmospheric inversion models"
   ]
  },
  {
   "cell_type": "markdown",
   "metadata": {},
   "source": [
    "# Bib\n",
    "\n",
    "@article{chu2021,\n",
    "  title={Representativeness of Eddy-Covariance flux footprints for areas surrounding AmeriFlux sites},\n",
    "  author={Chu, Housen and Luo, Xiangzhong and Ouyang, Zutao and Chan, W Stephen and Dengel, Sigrid and Biraud, S{\\'e}bastien C and Torn, Margaret S and Metzger, Stefan and Kumar, Jitendra and Arain, M Altaf and others},\n",
    "  journal={Agricultural and Forest Meteorology},\n",
    "  volume={301},\n",
    "  pages={108350},\n",
    "  year={2021},\n",
    "  publisher={Elsevier}\n",
    "}\n",
    "\n",
    "\n",
    "@article{cushman2016,\n",
    "  title={Calculating the configurational entropy of a landscape mosaic},\n",
    "  author={Cushman, Samuel A},\n",
    "  journal={Landscape ecology},\n",
    "  volume={31},\n",
    "  number={3},\n",
    "  pages={481--489},\n",
    "  year={2016},\n",
    "  publisher={Springer}\n",
    "}\n",
    "\n"
   ]
  },
  {
   "cell_type": "code",
   "execution_count": null,
   "metadata": {},
   "outputs": [],
   "source": []
  }
 ],
 "metadata": {
  "kernelspec": {
   "display_name": "Python 3",
   "language": "python",
   "name": "python3"
  },
  "language_info": {
   "codemirror_mode": {
    "name": "ipython",
    "version": 3
   },
   "file_extension": ".py",
   "mimetype": "text/x-python",
   "name": "python",
   "nbconvert_exporter": "python",
   "pygments_lexer": "ipython3",
   "version": "3.6.9"
  }
 },
 "nbformat": 4,
 "nbformat_minor": 2
}
